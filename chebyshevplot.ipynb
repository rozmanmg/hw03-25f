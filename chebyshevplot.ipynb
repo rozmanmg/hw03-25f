{
 "cells": [
  {
   "cell_type": "markdown",
   "id": "febd0a9d-bea2-4bcb-974d-86e5a31fb52a",
   "metadata": {},
   "source": [
    "# Chebyshev polynomial"
   ]
  },
  {
   "cell_type": "markdown",
   "id": "14fa18ac-a4f2-4e75-b54a-4a28f05abc66",
   "metadata": {},
   "source": [
    "**Chebyshev polynomials** is a particular kind of *special\n",
    "functions* that are important in numerical analysis and applied mathematics.\n",
    "  \n",
    "Chebyshev polynomials are defined as follows:\n",
    "\n",
    "$$T_n(x) = \\cos \\left(n \\arccos x \\right), \\qquad n = 0, 1, \\ldots, \\quad -1 \\le x \\le 1$$\n",
    "\n",
    "The first few Chebyshev polynomials are as follows:\n",
    "  \n",
    "$$ write \\quad your \\quad markdown \\quad here$$\n",
    "\n",
    "The polynomials are named after a mathematician Pafnuty Chebyshev. The\n",
    "letter $T$ is used because of the alternative transliterations of\n",
    "the name Chebyshev as Tchebycheff or Tchebyshev.\n",
    "\n",
    "Chebyshev polynomials $T_n(x)$ satisfy the following recurrence relations:\n",
    "\n",
    "$$T_{n+1}(x) = your \\; markdown \\; here , \\quad n = 0, 1, \\ldots$$"
   ]
  },
  {
   "cell_type": "code",
   "execution_count": null,
   "id": "52056ccb",
   "metadata": {},
   "outputs": [],
   "source": [
    "using PyPlot"
   ]
  },
  {
   "cell_type": "code",
   "execution_count": null,
   "id": "b32a3c0e",
   "metadata": {},
   "outputs": [],
   "source": [
    "\"\"\"\n",
    "    mychebyshev(n, x)\n",
    "\n",
    "Calculate Chebyshev polynomial T_n(x) using the recurrence relation    \n",
    "T_{n+1} = 2*x*T_n - T_{n-1}\n",
    "\"\"\"\n",
    "function mychebyshev(n, x)\n",
    "\n",
    "# Your code here\n",
    "    \n",
    "end"
   ]
  },
  {
   "cell_type": "markdown",
   "id": "459c64e7-2869-444a-8254-11ff811d5d34",
   "metadata": {},
   "source": [
    "#### Test code sanity"
   ]
  },
  {
   "cell_type": "code",
   "execution_count": null,
   "id": "0e52e44c-e46a-4979-828a-a033b6526cbd",
   "metadata": {},
   "outputs": [],
   "source": [
    "@show mychebyshev(3, 0.0);   # must be 0\n",
    "@show mychebyshev(3, -1.0);  # must be -1"
   ]
  },
  {
   "cell_type": "markdown",
   "id": "bb4e6e41-ad58-4080-95f6-a278a7b749f2",
   "metadata": {},
   "source": [
    "#### Measure code performance"
   ]
  },
  {
   "cell_type": "code",
   "execution_count": null,
   "id": "1f83962c-6e88-4196-9fa7-6afe5636b2ad",
   "metadata": {},
   "outputs": [],
   "source": [
    "@time mychebyshev(1, 1.0)"
   ]
  },
  {
   "cell_type": "code",
   "execution_count": null,
   "id": "80c6cb08-ea43-4150-9356-0b48ad130eb4",
   "metadata": {},
   "outputs": [],
   "source": [
    "@time mychebyshev(50, 1.0)"
   ]
  },
  {
   "cell_type": "markdown",
   "id": "c8333770-b649-4c8c-8309-ccc601c11dee",
   "metadata": {},
   "source": [
    "#### Plot graphs"
   ]
  },
  {
   "cell_type": "code",
   "execution_count": null,
   "id": "16b63744-e4ae-4d96-995a-d8d6b410af80",
   "metadata": {},
   "outputs": [],
   "source": [
    "np = your_number_of_plot_points\n",
    "x = range(-1.0, 1.0, np);"
   ]
  },
  {
   "cell_type": "code",
   "execution_count": null,
   "id": "ec0e816b",
   "metadata": {},
   "outputs": [],
   "source": [
    "for n in [2, 3, 5]\n",
    "    y = mychebyshev.(n, x)\n",
    "    plot(x, y, label=L\"T_{%$n}(x)\")\n",
    "end\n",
    "\n",
    "# add grid, legend, axis labels"
   ]
  },
  {
   "cell_type": "code",
   "execution_count": null,
   "id": "dfe33294",
   "metadata": {},
   "outputs": [],
   "source": []
  }
 ],
 "metadata": {
  "kernelspec": {
   "display_name": "Julia 1.11.6",
   "language": "julia",
   "name": "julia-1.11"
  },
  "language_info": {
   "file_extension": ".jl",
   "mimetype": "application/julia",
   "name": "julia",
   "version": "1.11.6"
  }
 },
 "nbformat": 4,
 "nbformat_minor": 5
}
